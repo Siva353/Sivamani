{
 "cells": [
  {
   "cell_type": "code",
   "execution_count": 6,
   "id": "ffa8dfe8",
   "metadata": {},
   "outputs": [
    {
     "name": "stdout",
     "output_type": "stream",
     "text": [
      "Object `superclass` not found.\n",
      "20\n",
      "18\n",
      "314.0\n",
      "62.800000000000004\n"
     ]
    }
   ],
   "source": [
    "1. What is the concept of an abstract superclass?\n",
    "\n",
    "# In Python, an abstract superclass is a class that is designed to be inherited by other classes but not instantiated directly. It serves as a blueprint for defining common attributes, methods, and behavior that its subclasses should implement.\n",
    "\n",
    "# The concept of an abstract superclass is closely related to abstract classes and interfaces found in other programming languages. While Python does not have built-in support for abstract classes, it can be achieved using the abc module (Abstract Base Classes) in the Python standard library.\n",
    "\n",
    "# The 'abc' module provides the 'ABC' class and the abstractmethod decorator, which allow you to define abstract methods and classes. An abstract method is a method declared in the abstract superclass but does not provide an implementation. Subclasses inheriting from the abstract superclass are required to implement these abstract methods.\n",
    "\n",
    "from abc import ABC, abstractmethod\n",
    "\n",
    "class Shape(ABC):\n",
    "    @abstractmethod\n",
    "    def area(self):\n",
    "        pass\n",
    "\n",
    "    @abstractmethod\n",
    "    def perimeter(self):\n",
    "        pass\n",
    "\n",
    "class Rectangle(Shape):\n",
    "    def __init__(self, width, height):\n",
    "        self.width = width\n",
    "        self.height = height\n",
    "\n",
    "    def area(self):\n",
    "        return self.width * self.height\n",
    "\n",
    "    def perimeter(self):\n",
    "        return 2 * (self.width + self.height)\n",
    "    \n",
    "class Circle(Shape):\n",
    "    def __init__(self, radius):\n",
    "        self.radius = radius\n",
    "\n",
    "    def area(self):\n",
    "        return 3.14 * self.radius**2\n",
    "\n",
    "    def perimeter(self):\n",
    "        return 2 * 3.14 * self.radius\n",
    "    \n",
    "r = Rectangle(4,5)\n",
    "\n",
    "print(r.area())\n",
    "print(r.perimeter())\n",
    "\n",
    "c = Circle(10)\n",
    "print(c.area())\n",
    "print(c.perimeter())"
   ]
  },
  {
   "cell_type": "code",
   "execution_count": 8,
   "id": "c628eea8",
   "metadata": {},
   "outputs": [
    {
     "name": "stdout",
     "output_type": "stream",
     "text": [
      "Object `statement` not found.\n",
      "11\n",
      "20\n",
      "30\n",
      "20\n",
      "30\n",
      "20\n",
      "10\n"
     ]
    }
   ],
   "source": [
    "2. What happens when a class statements top level contains a basic assignment statement?\n",
    "\n",
    "# 1.it creates a class-level variable or attribute. \n",
    "# 2.This means that the assigned value is shared among all instances of the class.\n",
    "\n",
    "class Cricket:\n",
    "    variable = 11\n",
    "\n",
    "    def __init__(self, a):\n",
    "        self.a = a\n",
    "\n",
    "# Accessing the class-level variable\n",
    "print(Cricket.variable)  \n",
    "\n",
    "# Creating instances of Cricket\n",
    "obj1 = Cricket(20)\n",
    "obj2 = Cricket(30)\n",
    "\n",
    "# Accessing a\n",
    "print(obj1.a)  \n",
    "print(obj2.a) \n",
    "\n",
    "# Modifying the class-level variable\n",
    "Cricket.variable = 50\n",
    "\n",
    "# Accessing the modified class-level variable from instances\n",
    "print(obj1.a)\n",
    "print(obj2.a)\n",
    "\n",
    "\n",
    "class Cricket:\n",
    "    variable = 10 #class variable\n",
    "\n",
    "    def __init__(self,variable):\n",
    "        self.variable = variable\n",
    "\n",
    "obj = Cricket(20) # instance variable\n",
    "print(obj.variable) \n",
    "print(Cricket.variable)\n"
   ]
  },
  {
   "cell_type": "code",
   "execution_count": 25,
   "id": "94aeba07",
   "metadata": {},
   "outputs": [
    {
     "name": "stdout",
     "output_type": "stream",
     "text": [
      "Object `method` not found.\n",
      "Tommy\n",
      "white\n"
     ]
    }
   ],
   "source": [
    "3. Why does a class need to manually call a superclass __init__ method?\n",
    "\n",
    "# 1. Inheritance of Attributes\n",
    "# 2. Code Reusability\n",
    "# 3. Proper Initialization Order\n",
    "\n",
    "class Animal:\n",
    "    def __init__(self, name):\n",
    "        self.name = name\n",
    "\n",
    "class Dog(Animal):\n",
    "    def __init__(self, name, colour):\n",
    "        super().__init__(name)\n",
    "        self.colour = colour\n",
    "\n",
    "d = Dog(\"Tommy\", \"white\")\n",
    "\n",
    "print(d.name)     # Accessing 'name' attribute of the 'd' instance\n",
    "print(d.colour)   # Accessing 'colour' attribute of the 'd' instance\n",
    "\n"
   ]
  },
  {
   "cell_type": "code",
   "execution_count": 19,
   "id": "64cf0502",
   "metadata": {},
   "outputs": [
    {
     "name": "stdout",
     "output_type": "stream",
     "text": [
      "Object `method` not found.\n",
      "Generic animal sound\n",
      "Meow\n"
     ]
    }
   ],
   "source": [
    "4. How can you augment, instead of completely replacing, an inherited method?\n",
    "\n",
    "# 1. Define the subclass that inherits from the superclass.\n",
    "# 2. Override the method in the subclass, providing your desired additional functionality.\n",
    "# 3. Call the superclass's version of the method within the overridden method, using the super() function.\n",
    "\n",
    "class Animal:\n",
    "    def make_sound(self):\n",
    "        print(\"Generic animal sound\")\n",
    "\n",
    "class Cat(Animal):\n",
    "    def make_sound(self):\n",
    "        super().make_sound()  # Call superclass's make_sound() method\n",
    "        print(\"Meow\")\n",
    "\n",
    "c = Cat()\n",
    "c.make_sound()\n",
    "\n"
   ]
  },
  {
   "cell_type": "code",
   "execution_count": 20,
   "id": "f8009ed5",
   "metadata": {},
   "outputs": [
    {
     "name": "stdout",
     "output_type": "stream",
     "text": [
      "Object `function` not found.\n",
      "10\n",
      "20\n",
      "30\n",
      "10\n",
      "20\n"
     ]
    }
   ],
   "source": [
    "5. How is the local scope of a class different from that of a function?\n",
    "\n",
    "class MyClass:\n",
    "    class_variable = 10  # Class variable\n",
    "\n",
    "    def __init__(self):\n",
    "        self.instance_variable = 20  # Instance variable\n",
    "\n",
    "    def class_method(self):\n",
    "        local_variable = 30  # Local variable\n",
    "\n",
    "        print(self.class_variable)  # Accessing class variable\n",
    "        print(self.instance_variable)  # Accessing instance variable\n",
    "        print(local_variable)  # Accessing local variable\n",
    "\n",
    "    def another_method(self):\n",
    "        print(self.class_variable)  # Accessing class variable\n",
    "        print(self.instance_variable)  # Accessing instance variable\n",
    "        # local_variable is not accessible here\n",
    "\n",
    "obj = MyClass()\n",
    "obj.class_method()\n",
    "obj.another_method()\n"
   ]
  },
  {
   "cell_type": "code",
   "execution_count": null,
   "id": "72906fa1",
   "metadata": {},
   "outputs": [],
   "source": []
  }
 ],
 "metadata": {
  "kernelspec": {
   "display_name": "Python 3 (ipykernel)",
   "language": "python",
   "name": "python3"
  },
  "language_info": {
   "codemirror_mode": {
    "name": "ipython",
    "version": 3
   },
   "file_extension": ".py",
   "mimetype": "text/x-python",
   "name": "python",
   "nbconvert_exporter": "python",
   "pygments_lexer": "ipython3",
   "version": "3.9.13"
  }
 },
 "nbformat": 4,
 "nbformat_minor": 5
}
