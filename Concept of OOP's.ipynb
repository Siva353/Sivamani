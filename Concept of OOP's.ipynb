{
 "cells": [
  {
   "cell_type": "code",
   "execution_count": 1,
   "id": "71c2208a",
   "metadata": {},
   "outputs": [
    {
     "name": "stdout",
     "output_type": "stream",
     "text": [
      "Object `inheritance` not found.\n",
      "This is ClassA's method\n",
      "This is ClassB's method\n"
     ]
    }
   ],
   "source": [
    "Q1. What is the meaning of multiple inheritance?\n",
    "\n",
    "# 1. Multiple inheritance is a feature in object-oriented programming languages that allows a class to inherit characteristics and behaviors from more than one parent class. \n",
    "# 2. In other words, a class can inherit from multiple base classes simultaneously.\n",
    "\n",
    "class ClassA:\n",
    "    def method_a(self):\n",
    "        print(\"This is ClassA's method\")\n",
    "\n",
    "class ClassB:\n",
    "    def method_b(self):\n",
    "        print(\"This is ClassB's method\")\n",
    "\n",
    "class DerivedClass(ClassA, ClassB):\n",
    "    pass\n",
    "\n",
    "obj = DerivedClass()\n",
    "obj.method_a()  \n",
    "obj.method_b() "
   ]
  },
  {
   "cell_type": "code",
   "execution_count": 2,
   "id": "896a9a01",
   "metadata": {},
   "outputs": [
    {
     "name": "stdout",
     "output_type": "stream",
     "text": [
      "Object `delegation` not found.\n",
      "Engine started.\n"
     ]
    }
   ],
   "source": [
    "Q2. What is the concept of delegation?\n",
    "\n",
    "# 1.  delegation can be implemented using composition. \n",
    "# 2. This involves creating a new class that contains an instance of another class and delegates some of its functionality to that instance.\n",
    "\n",
    "class Car:\n",
    "    def __init__(self, engine):\n",
    "        self.engine = engine\n",
    "\n",
    "    def start(self):\n",
    "        self.engine.start()\n",
    "\n",
    "class Engine:\n",
    "    def start(self):\n",
    "        print(\"Engine started.\")\n",
    "\n",
    "engine = Engine()\n",
    "car = Car(engine)\n",
    "car.start()\n",
    "\n",
    "# Explanation \n",
    "# 1.the Car class delegates the task of starting the engine to theEngine class. \n",
    "# 2.This allows us to separate the concerns of starting the car and starting the engine into two separate classes"
   ]
  },
  {
   "cell_type": "code",
   "execution_count": 3,
   "id": "d7c70b13",
   "metadata": {},
   "outputs": [
    {
     "name": "stdout",
     "output_type": "stream",
     "text": [
      "Object `composition` not found.\n",
      "Engine started\n",
      "Wheel rotating\n",
      "Wheel rotating\n",
      "Wheel rotating\n",
      "Wheel rotating\n"
     ]
    }
   ],
   "source": [
    "Q3. What is the concept of composition?\n",
    "\n",
    "# 1. Composition is a way to combine simple objects or data types into more complex ones. \n",
    "# 2. In composition, one of the classes is composed of one or more instances of other classes. \n",
    "# 3. In other words, one class is a container and the other class is content. \n",
    "# 4. If you delete the container object, then all of its contents objects are also deleted\n",
    "# 5. Composition is often preferred over inheritance when creating complex object structures.\n",
    "# 6. Because it offers more flexibility, loose coupling, and code reuse.\n",
    "\n",
    "class Engine:\n",
    "    def start(self):\n",
    "        print(\"Engine started\")\n",
    "\n",
    "class Wheel:\n",
    "    def rotate(self):\n",
    "        print(\"Wheel rotating\")\n",
    "\n",
    "class Car:\n",
    "    def __init__(self):\n",
    "        self.engine = Engine()\n",
    "        self.wheels = [Wheel() for id in range(4)]\n",
    "\n",
    "    def start_engine(self):\n",
    "        self.engine.start()\n",
    "\n",
    "    def rotate_wheels(self):\n",
    "        for wheel in self.wheels:\n",
    "            wheel.rotate()\n",
    "\n",
    "car = Car()\n",
    "car.start_engine()   \n",
    "car.rotate_wheels() \n",
    "\n"
   ]
  },
  {
   "cell_type": "code",
   "execution_count": 4,
   "id": "23acc098",
   "metadata": {},
   "outputs": [
    {
     "name": "stdout",
     "output_type": "stream",
     "text": [
      "Object `them` not found.\n",
      "42\n",
      "This is an unbound method\n"
     ]
    }
   ],
   "source": [
    "Q4. What are bound methods and how do we use them?\n",
    "\n",
    "# 1. A bound method is a method that is associated with a specific instance of a class.\n",
    "# 2. When a method is accessed through an instance of a class, it becomes a bound method. \n",
    "# 3. And the instance is automatically passed as the first argument (usually named self) to the method.\n",
    "\n",
    "class MyClass:\n",
    "    def __init__(self, value):\n",
    "        self.value = value\n",
    "\n",
    "    def print_value(self):\n",
    "        print(self.value)\n",
    "\n",
    "# Create an instance of MyClass\n",
    "obj = MyClass(42)\n",
    "\n",
    "# Access the print_value method, creating a bound method\n",
    "method = obj.print_value\n",
    "\n",
    "# Call the bound method\n",
    "method() \n",
    "\n",
    "# UNBOUND METHOD:\n",
    "# 4. Unbound methods are accessed through the class itself, rather than an instance.\n",
    "# 5. And do not have a specific instance associated with them. \n",
    "# 6. They can be called by explicitly passing an instance as the first argument.\n",
    "\n",
    "class MyClass:\n",
    "    def print_value(self):\n",
    "        print(\"This is an unbound method\")\n",
    "\n",
    "# Access the unbound method directly from the class\n",
    "method = MyClass.print_value\n",
    "\n",
    "# Call the unbound method by explicitly passing an instance\n",
    "obj = MyClass()\n",
    "method(obj) "
   ]
  },
  {
   "cell_type": "code",
   "execution_count": 6,
   "id": "eb5a7b90",
   "metadata": {},
   "outputs": [
    {
     "name": "stdout",
     "output_type": "stream",
     "text": [
      "Object `attributes` not found.\n",
      "10\n"
     ]
    }
   ],
   "source": [
    "Q5. What is the purpose of pseudoprivate attributes?\n",
    "\n",
    "# 1. pseudoprivate attributes are attributes that have a double underscore prefix but do not have a double underscore suffix.\n",
    "# 2. These attributes are not truly private, but they are harder to access from outside the class. \n",
    "# 3. The main use of these pseudo-private attributes is to prevent name clashes in child classes. \n",
    "# 4. It is a way to protect important attributes and methods that should not be overridden12.\n",
    "\n",
    "class MyClass:\n",
    "    def __init__(self, a):\n",
    "        self.__a = a\n",
    "\n",
    "    def my_function(self):\n",
    "        print(self.__a)\n",
    "\n",
    "my_object = MyClass(10)\n",
    "my_function = my_object.my_function\n",
    "my_function()"
   ]
  },
  {
   "cell_type": "code",
   "execution_count": null,
   "id": "d1a89e18",
   "metadata": {},
   "outputs": [],
   "source": []
  },
  {
   "cell_type": "code",
   "execution_count": null,
   "id": "fb18ba8f",
   "metadata": {},
   "outputs": [],
   "source": []
  },
  {
   "cell_type": "code",
   "execution_count": null,
   "id": "697e08b6",
   "metadata": {},
   "outputs": [],
   "source": []
  }
 ],
 "metadata": {
  "kernelspec": {
   "display_name": "Python 3 (ipykernel)",
   "language": "python",
   "name": "python3"
  },
  "language_info": {
   "codemirror_mode": {
    "name": "ipython",
    "version": 3
   },
   "file_extension": ".py",
   "mimetype": "text/x-python",
   "name": "python",
   "nbconvert_exporter": "python",
   "pygments_lexer": "ipython3",
   "version": "3.9.13"
  }
 },
 "nbformat": 4,
 "nbformat_minor": 5
}
