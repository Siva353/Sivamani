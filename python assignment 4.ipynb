{
 "cells": [
  {
   "cell_type": "code",
   "execution_count": 1,
   "id": "a5ec55e4",
   "metadata": {},
   "outputs": [
    {
     "name": "stdout",
     "output_type": "stream",
     "text": [
      "Object `iteration` not found.\n",
      "1\n",
      "2\n",
      "3\n",
      "4\n",
      "5\n"
     ]
    }
   ],
   "source": [
    "Q1. Which two operator overloading methods can you use in your classes to support iteration?\n",
    "\n",
    "# 1.you can use the __iter__() and __next__() methods to support iteration in your classes.\n",
    "# 2. The __iter__() method returns the iterator object itself.\n",
    "# 3. The __next__() method must return the next item in the sequence. \n",
    "# 4. On reaching the end, and in subsequent calls to __next__(), it must raise StopIteration.\n",
    "\n",
    "\n",
    "    \n",
    "class MyIterable:\n",
    "    def __init__(self, data):\n",
    "        self.data = data\n",
    "    \n",
    "    def __iter__(self):\n",
    "        return self\n",
    "    \n",
    "    def __next__(self):\n",
    "        if not self.data:\n",
    "            raise StopIteration\n",
    "        return self.data.pop(0)\n",
    "      \n",
    "\n",
    "my_list = [1, 2, 3, 4, 5]\n",
    "my_iterable = MyIterable(my_list)\n",
    "for i in my_iterable:\n",
    "    print(i)\n",
    "\n"
   ]
  },
  {
   "cell_type": "code",
   "execution_count": 2,
   "id": "db7c3e38",
   "metadata": {},
   "outputs": [
    {
     "name": "stdout",
     "output_type": "stream",
     "text": [
      "Object `printing` not found.\n",
      "Person: Siva, Age: 22\n",
      "Point(2, 3)\n",
      "Point(2, 3)\n"
     ]
    }
   ],
   "source": [
    "Q2. In what contexts do the two operator overloading methods manage printing?\n",
    "\n",
    "# 1. __str__() method: This method is used to provide a user-friendly string representation of the object.\n",
    "# It is called by the str() function and the print() function\n",
    "\n",
    "class Person:\n",
    "    def __init__(self, name, age):\n",
    "        self.name = name\n",
    "        self.age = age\n",
    "    \n",
    "    def __str__(self):\n",
    "        return f\"Person: {self.name}, Age: {self.age}\"\n",
    "\n",
    "\n",
    "person = Person(\"Siva\", 22)\n",
    "print(person) \n",
    "\n",
    "# 1. __repr__() method: This method is used to provide a detailed and unambiguous string representation of the object. \n",
    "# 2. It is called by the repr() function and by the interpreter when displaying the object interactively.\n",
    "\n",
    "class Point:\n",
    "    def __init__(self, x, y):\n",
    "        self.x = x\n",
    "        self.y = y\n",
    "    \n",
    "    def __repr__(self):\n",
    "        return f\"Point({self.x}, {self.y})\"\n",
    "\n",
    "    \n",
    "point = Point(2, 3)\n",
    "print(point) \n",
    "repr_point = repr(point)\n",
    "print(repr_point)"
   ]
  },
  {
   "cell_type": "code",
   "execution_count": 3,
   "id": "d12dac0f",
   "metadata": {},
   "outputs": [
    {
     "name": "stdout",
     "output_type": "stream",
     "text": [
      "Object `operations` not found.\n",
      "[2, 3, 4]\n"
     ]
    }
   ],
   "source": [
    "Q3. In a class, how do you intercept slice operations?\n",
    "\n",
    "# 1. To intercept slice operations in a class, you can use the __getitem__() method with a slice object as the index. \n",
    "# 2. The __getitem__() method is called when the object is accessed using square brackets ([]) with a slice argument.\n",
    "\n",
    "class MyList:\n",
    "    def __init__(self, *args):\n",
    "        self.data = list(args)\n",
    "\n",
    "    def __getitem__(self, index):\n",
    "        if isinstance(index, slice):\n",
    "            start = index.start or 0\n",
    "            stop = index.stop or len(self.data)\n",
    "            step = index.step or 1\n",
    "            return [self.data[i] for i in range(start, stop, step)]\n",
    "        else:\n",
    "            return self.data[index]\n",
    "\n",
    "mylist = MyList(1, 2, 3, 4, 5)\n",
    "print(mylist[1:4])"
   ]
  },
  {
   "cell_type": "code",
   "execution_count": 4,
   "id": "08729e15",
   "metadata": {},
   "outputs": [
    {
     "name": "stdout",
     "output_type": "stream",
     "text": [
      "Object `addition` not found.\n",
      "8\n"
     ]
    }
   ],
   "source": [
    "Q4. In a class, how do you capture in-place addition?\n",
    "\n",
    "# 1.To capture in-place addition, you need to define a special method named __iadd__ within your class.\n",
    "# 2.This method is called when the += operator is used on an object of the class. \n",
    "# The __iadd__ method takes two arguments: \n",
    "   # self (representing the current object) and other (representing the right operand of the += operator)\n",
    "    \n",
    "    \n",
    "class MyClass:\n",
    "    def __init__(self, value):\n",
    "        self.value = value\n",
    "    \n",
    "    def __iadd__(self, other):\n",
    "        self.value += other\n",
    "        return self\n",
    "\n",
    "\n",
    "obj = MyClass(5)\n",
    "obj += 3\n",
    "print(obj.value)"
   ]
  },
  {
   "cell_type": "code",
   "execution_count": 5,
   "id": "5c527fe0",
   "metadata": {},
   "outputs": [
    {
     "name": "stdout",
     "output_type": "stream",
     "text": [
      "Object `overloading` not found.\n",
      "6 4\n",
      "Hello World\n",
      "3\n",
      "Book: Data science by Ineuron\n"
     ]
    }
   ],
   "source": [
    "Q5. When is it appropriate to use operator overloading?\n",
    "\n",
    "# 1. Mathematical Operations\n",
    "\n",
    "class Vector:\n",
    "    def __init__(self, x, y):\n",
    "        self.x = x\n",
    "        self.y = y\n",
    "    \n",
    "    def __add__(self, other):\n",
    "        return Vector(self.x + other.x, self.y + other.y)\n",
    "\n",
    "vec1 = Vector(2, 3)\n",
    "vec2 = Vector(4, 1)\n",
    "result = vec1 + vec2\n",
    "print(result.x, result.y)\n",
    "\n",
    "# 2. String Concatenation\n",
    "\n",
    "class CustomString:\n",
    "    def __init__(self, value):\n",
    "        self.value = value\n",
    "    \n",
    "    def __add__(self, other):\n",
    "        return CustomString(self.value + ' ' + other.value)\n",
    "\n",
    "str1 = CustomString('Hello')\n",
    "str2 = CustomString('World')\n",
    "result = str1 + str2\n",
    "print(result.value)\n",
    "\n",
    "# 3. Comparison Operators\n",
    "\n",
    "class Person:\n",
    "    def __init__(self, name, age):\n",
    "        self.name = name\n",
    "        self.age = age\n",
    "    \n",
    "    def __lt__(self, other):\n",
    "        return self.age < other.age\n",
    "\n",
    "person1 = Person('Vasi', 25)\n",
    "person2 = Person('Siva', 22)\n",
    "if person1 < person2:\n",
    "    print(person1.name + ' is younger than ' + person2.name)\n",
    "    \n",
    "    \n",
    "# 4. Custom Indexing: You can overload the [] operator to provide indexing functionality for a custom \n",
    "\n",
    "class Stack:\n",
    "    def __init__(self):\n",
    "        self.items = []\n",
    "    \n",
    "    def __getitem__(self, index):\n",
    "        return self.items[index]\n",
    "\n",
    "stack = Stack()\n",
    "stack.items = [1, 2, 3, 4, 5]\n",
    "print(stack[2])\n",
    "\n",
    "# 5. Custom String Representation: You can overload the str method to define a custom string representation\n",
    "\n",
    "class Book:\n",
    "    def __init__(self, title, author):\n",
    "        self.title = title\n",
    "        self.author = author\n",
    "    \n",
    "    def __str__(self):\n",
    "        return f'Book: {self.title} by {self.author}'\n",
    "\n",
    "book = Book('Data science', 'Ineuron')\n",
    "print(str(book))"
   ]
  },
  {
   "cell_type": "code",
   "execution_count": null,
   "id": "365ca273",
   "metadata": {},
   "outputs": [],
   "source": []
  },
  {
   "cell_type": "code",
   "execution_count": null,
   "id": "a71cefcb",
   "metadata": {},
   "outputs": [],
   "source": []
  },
  {
   "cell_type": "code",
   "execution_count": null,
   "id": "1ad1315f",
   "metadata": {},
   "outputs": [],
   "source": []
  },
  {
   "cell_type": "code",
   "execution_count": null,
   "id": "2d4ff423",
   "metadata": {},
   "outputs": [],
   "source": []
  }
 ],
 "metadata": {
  "kernelspec": {
   "display_name": "Python 3 (ipykernel)",
   "language": "python",
   "name": "python3"
  },
  "language_info": {
   "codemirror_mode": {
    "name": "ipython",
    "version": 3
   },
   "file_extension": ".py",
   "mimetype": "text/x-python",
   "name": "python",
   "nbconvert_exporter": "python",
   "pygments_lexer": "ipython3",
   "version": "3.9.13"
  }
 },
 "nbformat": 4,
 "nbformat_minor": 5
}
