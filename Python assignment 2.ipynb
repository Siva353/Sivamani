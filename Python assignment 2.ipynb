{
 "cells": [
  {
   "cell_type": "code",
   "execution_count": 1,
   "id": "778e4413",
   "metadata": {},
   "outputs": [
    {
     "name": "stdout",
     "output_type": "stream",
     "text": [
      "Object `modules` not found.\n"
     ]
    },
    {
     "data": {
      "text/plain": [
       "'In Python, classes are templates for creating objects. They contain variables and functions which define the class objects. At the same time, modules are Python programs that can be imported into another Python program. Importing a module enables the usage of the module’s functions and variables into another program12.\\n\\nThe difference between a class and a module in Python is that a class is used to define a blueprint for a given object, whereas a module is used to reuse a given piece of code inside another program. A class can have its own instance, but a module cannot be instantiated'"
      ]
     },
     "execution_count": 1,
     "metadata": {},
     "output_type": "execute_result"
    }
   ],
   "source": [
    "Q1. What is the relationship between classes and modules?\n",
    "'''In Python, classes are templates for creating objects. They contain variables and functions which define the class objects. At the same time, modules are Python programs that can be imported into another Python program. Importing a module enables the usage of the module’s functions and variables into another program12.\n",
    "\n",
    "The difference between a class and a module in Python is that a class is used to define a blueprint for a given object, whereas a module is used to reuse a given piece of code inside another program. A class can have its own instance, but a module cannot be instantiated'''"
   ]
  },
  {
   "cell_type": "code",
   "execution_count": 9,
   "id": "f5546ca1",
   "metadata": {},
   "outputs": [
    {
     "name": "stdout",
     "output_type": "stream",
     "text": [
      "Object `classes` not found.\n"
     ]
    }
   ],
   "source": [
    "Q2. How do you make instances and classes?\n",
    "'''To create instances of a class in Python, you call the class using the class name and pass in whatever arguments its init method accepts. This process is also referred to as object instantiation'''\n",
    "\n",
    "class Myclass:\n",
    "    def __init__(self, arg1, arg2):\n",
    "        self.arg1 = arg1\n",
    "        self.arg2 = arg2\n",
    "\n",
    "my_instance = Myclass(\"Hello\", 22)"
   ]
  },
  {
   "cell_type": "code",
   "execution_count": 3,
   "id": "034cc173",
   "metadata": {},
   "outputs": [
    {
     "name": "stdout",
     "output_type": "stream",
     "text": [
      "Object `created` not found.\n"
     ]
    }
   ],
   "source": [
    "Q3. Where and how should be class attributes created?\n",
    "# class attributes can be created within the class definition using the following syntax:\n",
    "\n",
    "class Name:\n",
    "    try:\n",
    "        attribute_name = value\n",
    "    except Exception as e:\n",
    "        pass\n",
    "# Here are a few examples to illustrate different ways of creating class attributes:\n",
    "\n",
    "# Creating class attributes without any initial value:\n",
    "class Car:\n",
    "    color = None\n",
    "    wheels = None"
   ]
  },
  {
   "cell_type": "code",
   "execution_count": 4,
   "id": "79415184",
   "metadata": {},
   "outputs": [
    {
     "name": "stdout",
     "output_type": "stream",
     "text": [
      "Object `created` not found.\n",
      "22 vasi\n"
     ]
    }
   ],
   "source": [
    "Q4. Where and how are instance attributes created?\n",
    "'''\n",
    "instance attributes are created and assigned values within the __init__ method of a class. The __init__ method is a special method that gets called automatically when creating a new instance of a class.'''\n",
    "\n",
    "class Person:\n",
    "    def __init__(self, name, age):\n",
    "        self.name = name\n",
    "        self.age = age\n",
    "        \n",
    "    def boy(self):\n",
    "        print(self.age, self.name)\n",
    "        \n",
    "        \n",
    "p = Person(\"vasi\", 22)\n",
    "p.boy()"
   ]
  },
  {
   "cell_type": "code",
   "execution_count": 5,
   "id": "782d8ee2",
   "metadata": {},
   "outputs": [
    {
     "name": "stdout",
     "output_type": "stream",
     "text": [
      "Object `mean` not found.\n",
      "Hello, my name is Virat Kohli and I am 34 years old.\n"
     ]
    }
   ],
   "source": [
    "Q5. What does the term \"self\" in a Python class mean?\n",
    "\n",
    "'''Self it is a constructor to pass the data to class functions'''\n",
    "\n",
    "class Person:\n",
    "    def __init__(self, name, age):\n",
    "        self.name = name\n",
    "        self.age = age\n",
    "\n",
    "    def say_hello(self):\n",
    "        print(f\"Hello, my name is {self.name} and I am {self.age} years old.\")\n",
    "\n",
    "person = Person(\"Virat Kohli\", 34)\n",
    "person.say_hello()"
   ]
  },
  {
   "cell_type": "code",
   "execution_count": 6,
   "id": "030e0f11",
   "metadata": {},
   "outputs": [
    {
     "name": "stdout",
     "output_type": "stream",
     "text": [
      "Object `overloading` not found.\n",
      "Meow\n",
      "Bow wow\n"
     ]
    }
   ],
   "source": [
    "Q6. How does a Python class handle operator overloading?\n",
    "'''overloading allows you to define how operators behave for objects of a custom class.'''\n",
    "\n",
    "class Dog:\n",
    "    def sound(self):\n",
    "        print(\"Bow wow\")\n",
    "\n",
    "class Cat:\n",
    "    def sound(self):\n",
    "        print(\"Meow\")\n",
    "\n",
    "def make_sound(animal_type):\n",
    "    animal_type.sound()\n",
    "\n",
    "c = Cat()\n",
    "d = Dog()\n",
    "\n",
    "make_sound(c)\n",
    "make_sound(d)"
   ]
  },
  {
   "cell_type": "code",
   "execution_count": 7,
   "id": "20af84b8",
   "metadata": {},
   "outputs": [
    {
     "name": "stdout",
     "output_type": "stream",
     "text": [
      "Object `classes` not found.\n"
     ]
    },
    {
     "data": {
      "text/plain": [
       "' when you want to provide a more intuitive and natural syntax for performing operations on objects of your custom class. It allows you to define how operators behave with your objects, making your code more expressive and readable.'"
      ]
     },
     "execution_count": 7,
     "metadata": {},
     "output_type": "execute_result"
    }
   ],
   "source": [
    "Q7. When do you consider allowing operator overloading of your classes?\n",
    "''' when you want to provide a more intuitive and natural syntax for performing operations on objects of your custom class. It allows you to define how operators behave with your objects, making your code more expressive and readable.'''"
   ]
  },
  {
   "cell_type": "code",
   "execution_count": 19,
   "id": "c84e0528",
   "metadata": {},
   "outputs": [
    {
     "name": "stdout",
     "output_type": "stream",
     "text": [
      "Object `overloading` not found.\n",
      "s2 win\n",
      "7\n"
     ]
    }
   ],
   "source": [
    "Q8. What is the most popular form of operator overloading?\n",
    "'''one of the most popular forms of operator overloading is the overloading of arithmetic operators such as +'''\n",
    "class student:\n",
    "    def __init__(self, m1,m2):\n",
    "        self.m1 = m1\n",
    "        self.m2 = m2\n",
    "        \n",
    "    def __add__(self, other):\n",
    "        m1 = self.m1 + other.m1\n",
    "        m2 = self.m2 + other.m2\n",
    "        s3 = student(m1,m2)\n",
    "        return s3\n",
    "    \n",
    "    def __gt__(self, other):\n",
    "        r1 = self.m1 + other.m1\n",
    "        r2 = self.m2 + other.m2\n",
    "        if r1>r2:\n",
    "            return True\n",
    "        else:\n",
    "            return False\n",
    "        \n",
    "s1 = student(4,5) # s1 = self\n",
    "s2 = student(3,6) # s2 = other\n",
    "\n",
    "s3 = s1+s2\n",
    "\n",
    "if s1>s2:\n",
    "    print(\"s1 win\")\n",
    "else:\n",
    "    print(\"s2 win\")\n",
    "\n",
    "print(s3.m1)\n",
    "\n",
    "    "
   ]
  },
  {
   "cell_type": "code",
   "execution_count": 20,
   "id": "9a6ebc35",
   "metadata": {},
   "outputs": [
    {
     "name": "stdout",
     "output_type": "stream",
     "text": [
      "Object `code` not found.\n",
      "Engine started!\n",
      "Honda\n",
      "Woof!\n",
      "Meow!\n"
     ]
    }
   ],
   "source": [
    "Q9. VWhat are the two most important concepts to grasp in order to comprehend Python OOP code?\n",
    "\n",
    "# 1. Class and objects\n",
    "class Car:\n",
    "    def __init__(self, make, model):\n",
    "        self.make = make\n",
    "        self.model = model\n",
    "\n",
    "    def start_engine(self):\n",
    "        print(\"Engine started!\")\n",
    "\n",
    "car1 = Car(\"Toyota\", \"Camry\")\n",
    "car2 = Car(\"Honda\", \"Accord\")\n",
    "car1.start_engine() \n",
    "car1.make\n",
    "car2.model\n",
    "print(car2.make)\n",
    "\n",
    "# 2. Inheritance and Polymorphism\n",
    "\n",
    "class Animal:\n",
    "    def sound(self):\n",
    "        pass\n",
    "\n",
    "class Dog(Animal):\n",
    "    def sound(self):\n",
    "        print(\"Woof!\")\n",
    "\n",
    "class Cat(Animal):\n",
    "    def sound(self):\n",
    "        print(\"Meow!\")\n",
    "\n",
    "def make_sound(animal):\n",
    "    animal.sound()\n",
    "\n",
    "dog = Dog()\n",
    "cat = Cat()\n",
    "make_sound(dog)\n",
    "make_sound(cat)"
   ]
  }
 ],
 "metadata": {
  "kernelspec": {
   "display_name": "Python 3 (ipykernel)",
   "language": "python",
   "name": "python3"
  },
  "language_info": {
   "codemirror_mode": {
    "name": "ipython",
    "version": 3
   },
   "file_extension": ".py",
   "mimetype": "text/x-python",
   "name": "python",
   "nbconvert_exporter": "python",
   "pygments_lexer": "ipython3",
   "version": "3.9.13"
  }
 },
 "nbformat": 4,
 "nbformat_minor": 5
}
