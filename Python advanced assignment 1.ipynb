{
 "cells": [
  {
   "cell_type": "code",
   "execution_count": 7,
   "id": "c90ca1e6",
   "metadata": {},
   "outputs": [],
   "source": [
    "# Q1. What is the purpose of Python OOP?\n",
    "# It is a programming paradigm that focuses on the use of objects and classes to create programs.\n",
    "# A way of computer programming using the idea of \"obejects\" to represent data and methods."
   ]
  },
  {
   "cell_type": "code",
   "execution_count": null,
   "id": "3d732932",
   "metadata": {},
   "outputs": [],
   "source": [
    "# Q2. Where does an inheritance search look for an attribute?\n",
    "#  an inheritance search looks for an attribute first in the instance object."
   ]
  },
  {
   "cell_type": "code",
   "execution_count": 8,
   "id": "89464fd9",
   "metadata": {},
   "outputs": [],
   "source": [
    "# Q3. How do you distinguish between a class object and an instance object?\n",
    "# A class object and an instance object are related but different concepts in Python. A class object is a blueprint that defines the properties and methods that all instances of that class will have.\n",
    "class Animal:\n",
    "    def __init__(self, name):\n",
    "        self.name = name\n",
    "    def make_sound(self):\n",
    "        print(\"Animal sound\")"
   ]
  },
  {
   "cell_type": "code",
   "execution_count": 10,
   "id": "46657dfc",
   "metadata": {},
   "outputs": [
    {
     "data": {
      "text/plain": [
       "'petrol'"
      ]
     },
     "execution_count": 10,
     "metadata": {},
     "output_type": "execute_result"
    }
   ],
   "source": [
    "# Q4. What makes the first argument in a class’s method function special?\n",
    "'''it represents the object on which the method is called. This argument is usually named self by convention, but it can have any name. The self argument allows the method to access and modify the attributes and other methods of the object.'''\n",
    "class car:\n",
    "    def __init__(self, brand_type, fuel_type):\n",
    "        self.brand_type = brand_type\n",
    "        self.fuel_type = fuel_type\n",
    "        \n",
    "    def desc_car(self):\n",
    "        print(self.brand_type, self.fuel_type)\n",
    "        \n",
    "b = car(\"benz\", \"petrol\")\n",
    "b.brand_type\n",
    "b.fuel_type"
   ]
  },
  {
   "cell_type": "code",
   "execution_count": 11,
   "id": "f4768976",
   "metadata": {},
   "outputs": [
    {
     "name": "stdout",
     "output_type": "stream",
     "text": [
      "Sivamani\n",
      "22\n"
     ]
    }
   ],
   "source": [
    "# Q5. What is the purpose of the __init__ method?\n",
    "'''it is an constructor. it is nothing but kind of entity or method or function which helps my class to take an input or it is responsible to pass the data to the class'''\n",
    "class Person:\n",
    "    def __init__(self, name, age):\n",
    "       self.name = name\n",
    "       self.age = age\n",
    "\n",
    "p = Person(\"Sivamani\", 22)\n",
    "print(p.name) \n",
    "print(p.age)"
   ]
  },
  {
   "cell_type": "code",
   "execution_count": 12,
   "id": "e08deafb",
   "metadata": {},
   "outputs": [
    {
     "name": "stdout",
     "output_type": "stream",
     "text": [
      "Object `instance` not found.\n",
      "Sivamani\n",
      "22\n"
     ]
    }
   ],
   "source": [
    "# Q6. What is the process for creating a class instance?\n",
    "'''The process for creating a class instance in python is to call the class name followed by parentheses and pass in whatever arguments its init method accepts. The init method is a special function that is automatically executed when a new object of the class is created. It is used to initialize the object’s attributes or perform other operations that are necessary when the object is being created'''\n",
    "class Person:\n",
    "    def __init__(self, name, age):\n",
    "       self.name = name\n",
    "       self.age = age\n",
    "\n",
    "p = Person(\"Sivamani\", 22)\n",
    "print(p.name) \n",
    "print(p.age)\n",
    "\n",
    "# p is an instance of class"
   ]
  },
  {
   "cell_type": "code",
   "execution_count": 13,
   "id": "2c366027",
   "metadata": {},
   "outputs": [],
   "source": [
    "# Q7. What is the process for creating a class?\n",
    "'''The process for creating a class in python is to use the keyword class followed by the class name and a colon. The class body can contain statements that define the attributes and methods of the class2'''\n",
    "# This is a class named Vehicle\n",
    "class Vehicle:\n",
    "  # This is an attribute that stores the number of wheels\n",
    "  wheels = 4\n",
    "\n",
    "  # This is a method that prints the vehicle type\n",
    "  def print_type(self):\n",
    "    print(\"This is a vehicle\")"
   ]
  },
  {
   "cell_type": "code",
   "execution_count": 14,
   "id": "3ae036a1",
   "metadata": {},
   "outputs": [],
   "source": [
    "# Q8. How would you define the superclasses of a class?\n",
    "'''The superclasses of a class are the classes that the class inherits from. Inheritance is a concept in object-oriented programming that allows a class to reuse the attributes and methods of another class without having to redefine them. To define the superclasses of a class, you can specify them in parentheses after the class name in the class definition'''\n",
    "\n",
    "# This is a superclass named Animal\n",
    "class Animal:\n",
    "    def __init__(self, name):\n",
    "        self.name = name\n",
    "\n",
    "    def make_sound(self):\n",
    "        print(\"Animal sound\")\n",
    "\n",
    "# This is a subclass named Dog that inherits from Animal\n",
    "class Dog(Animal):\n",
    "    def __init__(self, name, breed):\n",
    "    # This calls the __init__ method of the superclass Animal\n",
    "        Animal.__init__(name)\n",
    "        self.breed = breed\n",
    "\n",
    "    def make_sound(self):\n",
    "    # This overrides the make_sound method of the superclass Animal\n",
    "        print(\"Woof\")"
   ]
  },
  {
   "cell_type": "code",
   "execution_count": null,
   "id": "ccd10802",
   "metadata": {},
   "outputs": [],
   "source": []
  }
 ],
 "metadata": {
  "kernelspec": {
   "display_name": "Python 3 (ipykernel)",
   "language": "python",
   "name": "python3"
  },
  "language_info": {
   "codemirror_mode": {
    "name": "ipython",
    "version": 3
   },
   "file_extension": ".py",
   "mimetype": "text/x-python",
   "name": "python",
   "nbconvert_exporter": "python",
   "pygments_lexer": "ipython3",
   "version": "3.9.13"
  }
 },
 "nbformat": 4,
 "nbformat_minor": 5
}
